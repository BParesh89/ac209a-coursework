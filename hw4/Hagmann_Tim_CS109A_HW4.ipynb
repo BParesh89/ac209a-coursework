{
 "cells": [
  {
   "cell_type": "markdown",
   "metadata": {},
   "source": [
    "# CS 109A/AC 209A/STAT 121A Data Science: Homework 4\n",
    "**Harvard University**<br>\n",
    "**Fall 2016**<br>\n",
    "**Instructors: W. Pan, P. Protopapas, K. Rader**<br>\n",
    "**Due Date: ** Wednesday, October 5th, 2016 at 11:59pm"
   ]
  },
  {
   "cell_type": "markdown",
   "metadata": {},
   "source": [
    "Download the `IPython` notebook as well as the data file from Vocareum and complete locally.\n",
    "\n",
    "To submit your assignment, in Vocareum, upload (using the 'Upload' button on your Jupyter Dashboard) your solution to Vocareum as a single notebook with following file name format:\n",
    "\n",
    "`last_first_CourseNumber_HW4.ipynb`\n",
    "\n",
    "where `CourseNumber` is the course in which you're enrolled (CS 109a, Stats 121a, AC 209a). Submit your assignment in Vocareum using the 'Submit' button.\n",
    "\n",
    "**Avoid editing your file in Vocareum after uploading. If you need to make a change in a solution. Delete your old solution file from Vocareum and upload a new solution. Click submit only ONCE after verifying that you have uploaded the correct file. The assignment will CLOSE after you click the submit button.**\n",
    "\n",
    "Problems on homework assignments are equally weighted. The Challenge Question is required for AC 209A students and optional for all others. Student who complete the Challenge Problem as optional extra credit will receive +0.5% towards your final grade for each correct solution. "
   ]
  },
  {
   "cell_type": "markdown",
   "metadata": {},
   "source": [
    "Import libraries"
   ]
  },
  {
   "cell_type": "code",
   "execution_count": 1,
   "metadata": {
    "collapsed": false
   },
   "outputs": [],
   "source": [
    "import numpy as np\n",
    "import pandas as pd\n",
    "from sklearn.linear_model import LinearRegression as Lin_Reg\n",
    "from sklearn.linear_model import Ridge as Ridge_Reg\n",
    "from sklearn.linear_model import Lasso as Lasso_Reg\n",
    "from statsmodels.regression.linear_model import OLS\n",
    "import sklearn.preprocessing as Preprocessing\n",
    "from sklearn.cross_validation import train_test_split\n",
    "from sklearn.cross_validation import KFold\n",
    "from sklearn.cross_validation import cross_val_score\n",
    "import itertools as it\n",
    "import matplotlib\n",
    "import matplotlib.pyplot as plt\n",
    "import matplotlib.cm as cmx\n",
    "import matplotlib.colors as colors\n",
    "import scipy as sp\n",
    "from itertools import combinations\n",
    "%matplotlib inline"
   ]
  },
  {
   "cell_type": "markdown",
   "metadata": {},
   "source": [
    "# I'm a title\n"
   ]
  },
  {
   "cell_type": "markdown",
   "metadata": {},
   "source": [
    "## Problem 0: Basic Information\n",
    "\n",
    "Fill in your basic information. \n",
    "\n",
    "### Part (a): Your name"
   ]
  },
  {
   "cell_type": "markdown",
   "metadata": {},
   "source": [
    "[Hagmann, Tim]"
   ]
  },
  {
   "cell_type": "markdown",
   "metadata": {},
   "source": [
    "### Part (b): Course Number"
   ]
  },
  {
   "cell_type": "markdown",
   "metadata": {},
   "source": [
    "[CS 109a]"
   ]
  },
  {
   "cell_type": "markdown",
   "metadata": {},
   "source": [
    "### Part (c): Who did you work with?"
   ]
  },
  {
   "cell_type": "markdown",
   "metadata": {},
   "source": [
    "-"
   ]
  },
  {
   "cell_type": "markdown",
   "metadata": {},
   "source": [
    "**All data sets can be found in the ``datasets`` folder and are in comma separated value (CSV) format**"
   ]
  },
  {
   "cell_type": "markdown",
   "metadata": {},
   "source": [
    "## Problem 1: Variable selection and regularization\n",
    "\n",
    "The data set for this problem is provided in ``dataset_1.txt`` and contains 10 predictors and a response variable.\n",
    "\n",
    "### Part (a): Analyze correlation among predictors\n",
    "- By visually inspecting the data set, do find that some of the predictors are correlated amongst themselves?\n",
    "\n",
    "\n",
    "- Compute the cofficient of correlation between each pair of predictors, and visualize the matrix of correlation coefficients using a heat map. Do the predictors fall naturally into groups based on the correlation values?\n",
    "\n",
    "\n",
    "- If you were asked to select a minimal subset of predictors based on the correlation information in order to build a good regression model, how many predictors will you pick, and which ones will you choose? "
   ]
  },
  {
   "cell_type": "code",
   "execution_count": 68,
   "metadata": {
    "collapsed": false
   },
   "outputs": [
    {
     "data": {
      "text/html": [
       "<div>\n",
       "<table border=\"1\" class=\"dataframe\">\n",
       "  <thead>\n",
       "    <tr style=\"text-align: right;\">\n",
       "      <th></th>\n",
       "      <th>0</th>\n",
       "      <th>1</th>\n",
       "      <th>2</th>\n",
       "      <th>3</th>\n",
       "      <th>4</th>\n",
       "      <th>5</th>\n",
       "      <th>6</th>\n",
       "      <th>7</th>\n",
       "      <th>8</th>\n",
       "      <th>9</th>\n",
       "      <th>10</th>\n",
       "    </tr>\n",
       "  </thead>\n",
       "  <tbody>\n",
       "    <tr>\n",
       "      <th>0</th>\n",
       "      <td>0.959357</td>\n",
       "      <td>0.959357</td>\n",
       "      <td>0.959357</td>\n",
       "      <td>0.343727</td>\n",
       "      <td>0.524083</td>\n",
       "      <td>0.537768</td>\n",
       "      <td>0.435598</td>\n",
       "      <td>0.831999</td>\n",
       "      <td>0.153247</td>\n",
       "      <td>0.005016</td>\n",
       "      <td>0.289394</td>\n",
       "    </tr>\n",
       "    <tr>\n",
       "      <th>1</th>\n",
       "      <td>0.616969</td>\n",
       "      <td>0.616969</td>\n",
       "      <td>0.616969</td>\n",
       "      <td>0.287376</td>\n",
       "      <td>0.513844</td>\n",
       "      <td>0.497775</td>\n",
       "      <td>0.452732</td>\n",
       "      <td>0.914609</td>\n",
       "      <td>0.367390</td>\n",
       "      <td>0.444473</td>\n",
       "      <td>-0.277574</td>\n",
       "    </tr>\n",
       "    <tr>\n",
       "      <th>2</th>\n",
       "      <td>0.995941</td>\n",
       "      <td>0.995941</td>\n",
       "      <td>0.995941</td>\n",
       "      <td>0.107294</td>\n",
       "      <td>0.097106</td>\n",
       "      <td>0.146751</td>\n",
       "      <td>0.136414</td>\n",
       "      <td>0.635926</td>\n",
       "      <td>0.535209</td>\n",
       "      <td>0.899457</td>\n",
       "      <td>-0.513097</td>\n",
       "    </tr>\n",
       "    <tr>\n",
       "      <th>3</th>\n",
       "      <td>0.821732</td>\n",
       "      <td>0.821732</td>\n",
       "      <td>0.821732</td>\n",
       "      <td>0.202558</td>\n",
       "      <td>0.329504</td>\n",
       "      <td>0.359471</td>\n",
       "      <td>0.281453</td>\n",
       "      <td>0.106263</td>\n",
       "      <td>0.479327</td>\n",
       "      <td>0.256271</td>\n",
       "      <td>-0.182353</td>\n",
       "    </tr>\n",
       "    <tr>\n",
       "      <th>4</th>\n",
       "      <td>0.302423</td>\n",
       "      <td>0.302423</td>\n",
       "      <td>0.302423</td>\n",
       "      <td>0.184564</td>\n",
       "      <td>0.270263</td>\n",
       "      <td>0.293385</td>\n",
       "      <td>0.263866</td>\n",
       "      <td>0.378630</td>\n",
       "      <td>0.740241</td>\n",
       "      <td>0.468589</td>\n",
       "      <td>-0.625117</td>\n",
       "    </tr>\n",
       "  </tbody>\n",
       "</table>\n",
       "</div>"
      ],
      "text/plain": [
       "         0         1         2         3         4         5         6   \\\n",
       "0  0.959357  0.959357  0.959357  0.343727  0.524083  0.537768  0.435598   \n",
       "1  0.616969  0.616969  0.616969  0.287376  0.513844  0.497775  0.452732   \n",
       "2  0.995941  0.995941  0.995941  0.107294  0.097106  0.146751  0.136414   \n",
       "3  0.821732  0.821732  0.821732  0.202558  0.329504  0.359471  0.281453   \n",
       "4  0.302423  0.302423  0.302423  0.184564  0.270263  0.293385  0.263866   \n",
       "\n",
       "         7         8         9         10  \n",
       "0  0.831999  0.153247  0.005016  0.289394  \n",
       "1  0.914609  0.367390  0.444473 -0.277574  \n",
       "2  0.635926  0.535209  0.899457 -0.513097  \n",
       "3  0.106263  0.479327  0.256271 -0.182353  \n",
       "4  0.378630  0.740241  0.468589 -0.625117  "
      ]
     },
     "execution_count": 68,
     "metadata": {},
     "output_type": "execute_result"
    }
   ],
   "source": [
    "# Load data\n",
    "data = np.loadtxt('datasets/dataset_1.txt', delimiter=',', skiprows=1)\n",
    "\n",
    "# Split predictors and response\n",
    "x = data[:, :-1]\n",
    "y = data[:, -1]\n",
    "\n",
    "df = pd.DataFrame(data)\n",
    "df.head()\n"
   ]
  },
  {
   "cell_type": "code",
   "execution_count": 69,
   "metadata": {
    "collapsed": false
   },
   "outputs": [
    {
     "data": {
      "text/html": [
       "<div>\n",
       "<table border=\"1\" class=\"dataframe\">\n",
       "  <thead>\n",
       "    <tr style=\"text-align: right;\">\n",
       "      <th></th>\n",
       "      <th>0</th>\n",
       "      <th>1</th>\n",
       "      <th>2</th>\n",
       "      <th>3</th>\n",
       "      <th>4</th>\n",
       "      <th>5</th>\n",
       "      <th>6</th>\n",
       "      <th>7</th>\n",
       "      <th>8</th>\n",
       "      <th>9</th>\n",
       "    </tr>\n",
       "  </thead>\n",
       "  <tbody>\n",
       "    <tr>\n",
       "      <th>0</th>\n",
       "      <td>1.000000</td>\n",
       "      <td>1.000000</td>\n",
       "      <td>1.000000</td>\n",
       "      <td>-0.189945</td>\n",
       "      <td>-0.232439</td>\n",
       "      <td>-0.215623</td>\n",
       "      <td>-0.228322</td>\n",
       "      <td>-0.047643</td>\n",
       "      <td>-0.061022</td>\n",
       "      <td>0.050977</td>\n",
       "    </tr>\n",
       "    <tr>\n",
       "      <th>1</th>\n",
       "      <td>1.000000</td>\n",
       "      <td>1.000000</td>\n",
       "      <td>1.000000</td>\n",
       "      <td>-0.189945</td>\n",
       "      <td>-0.232439</td>\n",
       "      <td>-0.215623</td>\n",
       "      <td>-0.228322</td>\n",
       "      <td>-0.047643</td>\n",
       "      <td>-0.061022</td>\n",
       "      <td>0.050977</td>\n",
       "    </tr>\n",
       "    <tr>\n",
       "      <th>2</th>\n",
       "      <td>1.000000</td>\n",
       "      <td>1.000000</td>\n",
       "      <td>1.000000</td>\n",
       "      <td>-0.189945</td>\n",
       "      <td>-0.232439</td>\n",
       "      <td>-0.215623</td>\n",
       "      <td>-0.228322</td>\n",
       "      <td>-0.047643</td>\n",
       "      <td>-0.061022</td>\n",
       "      <td>0.050977</td>\n",
       "    </tr>\n",
       "    <tr>\n",
       "      <th>3</th>\n",
       "      <td>-0.189945</td>\n",
       "      <td>-0.189945</td>\n",
       "      <td>-0.189945</td>\n",
       "      <td>1.000000</td>\n",
       "      <td>0.974279</td>\n",
       "      <td>0.964344</td>\n",
       "      <td>0.969540</td>\n",
       "      <td>0.058516</td>\n",
       "      <td>0.108294</td>\n",
       "      <td>-0.010416</td>\n",
       "    </tr>\n",
       "    <tr>\n",
       "      <th>4</th>\n",
       "      <td>-0.232439</td>\n",
       "      <td>-0.232439</td>\n",
       "      <td>-0.232439</td>\n",
       "      <td>0.974279</td>\n",
       "      <td>1.000000</td>\n",
       "      <td>0.982785</td>\n",
       "      <td>0.982227</td>\n",
       "      <td>0.080342</td>\n",
       "      <td>0.126004</td>\n",
       "      <td>-0.012399</td>\n",
       "    </tr>\n",
       "    <tr>\n",
       "      <th>5</th>\n",
       "      <td>-0.215623</td>\n",
       "      <td>-0.215623</td>\n",
       "      <td>-0.215623</td>\n",
       "      <td>0.964344</td>\n",
       "      <td>0.982785</td>\n",
       "      <td>1.000000</td>\n",
       "      <td>0.976308</td>\n",
       "      <td>0.079547</td>\n",
       "      <td>0.123368</td>\n",
       "      <td>-0.021029</td>\n",
       "    </tr>\n",
       "    <tr>\n",
       "      <th>6</th>\n",
       "      <td>-0.228322</td>\n",
       "      <td>-0.228322</td>\n",
       "      <td>-0.228322</td>\n",
       "      <td>0.969540</td>\n",
       "      <td>0.982227</td>\n",
       "      <td>0.976308</td>\n",
       "      <td>1.000000</td>\n",
       "      <td>0.074004</td>\n",
       "      <td>0.112241</td>\n",
       "      <td>-0.022023</td>\n",
       "    </tr>\n",
       "    <tr>\n",
       "      <th>7</th>\n",
       "      <td>-0.047643</td>\n",
       "      <td>-0.047643</td>\n",
       "      <td>-0.047643</td>\n",
       "      <td>0.058516</td>\n",
       "      <td>0.080342</td>\n",
       "      <td>0.079547</td>\n",
       "      <td>0.074004</td>\n",
       "      <td>1.000000</td>\n",
       "      <td>-0.133182</td>\n",
       "      <td>0.052151</td>\n",
       "    </tr>\n",
       "    <tr>\n",
       "      <th>8</th>\n",
       "      <td>-0.061022</td>\n",
       "      <td>-0.061022</td>\n",
       "      <td>-0.061022</td>\n",
       "      <td>0.108294</td>\n",
       "      <td>0.126004</td>\n",
       "      <td>0.123368</td>\n",
       "      <td>0.112241</td>\n",
       "      <td>-0.133182</td>\n",
       "      <td>1.000000</td>\n",
       "      <td>0.006923</td>\n",
       "    </tr>\n",
       "    <tr>\n",
       "      <th>9</th>\n",
       "      <td>0.050977</td>\n",
       "      <td>0.050977</td>\n",
       "      <td>0.050977</td>\n",
       "      <td>-0.010416</td>\n",
       "      <td>-0.012399</td>\n",
       "      <td>-0.021029</td>\n",
       "      <td>-0.022023</td>\n",
       "      <td>0.052151</td>\n",
       "      <td>0.006923</td>\n",
       "      <td>1.000000</td>\n",
       "    </tr>\n",
       "  </tbody>\n",
       "</table>\n",
       "</div>"
      ],
      "text/plain": [
       "          0         1         2         3         4         5         6  \\\n",
       "0  1.000000  1.000000  1.000000 -0.189945 -0.232439 -0.215623 -0.228322   \n",
       "1  1.000000  1.000000  1.000000 -0.189945 -0.232439 -0.215623 -0.228322   \n",
       "2  1.000000  1.000000  1.000000 -0.189945 -0.232439 -0.215623 -0.228322   \n",
       "3 -0.189945 -0.189945 -0.189945  1.000000  0.974279  0.964344  0.969540   \n",
       "4 -0.232439 -0.232439 -0.232439  0.974279  1.000000  0.982785  0.982227   \n",
       "5 -0.215623 -0.215623 -0.215623  0.964344  0.982785  1.000000  0.976308   \n",
       "6 -0.228322 -0.228322 -0.228322  0.969540  0.982227  0.976308  1.000000   \n",
       "7 -0.047643 -0.047643 -0.047643  0.058516  0.080342  0.079547  0.074004   \n",
       "8 -0.061022 -0.061022 -0.061022  0.108294  0.126004  0.123368  0.112241   \n",
       "9  0.050977  0.050977  0.050977 -0.010416 -0.012399 -0.021029 -0.022023   \n",
       "\n",
       "          7         8         9  \n",
       "0 -0.047643 -0.061022  0.050977  \n",
       "1 -0.047643 -0.061022  0.050977  \n",
       "2 -0.047643 -0.061022  0.050977  \n",
       "3  0.058516  0.108294 -0.010416  \n",
       "4  0.080342  0.126004 -0.012399  \n",
       "5  0.079547  0.123368 -0.021029  \n",
       "6  0.074004  0.112241 -0.022023  \n",
       "7  1.000000 -0.133182  0.052151  \n",
       "8 -0.133182  1.000000  0.006923  \n",
       "9  0.052151  0.006923  1.000000  "
      ]
     },
     "execution_count": 69,
     "metadata": {},
     "output_type": "execute_result"
    }
   ],
   "source": [
    "# Compute matrix of correlation coefficients\n",
    "corr_matrix = np.corrcoef(x.T)\n",
    "pd.DataFrame(corr_matrix)\n"
   ]
  },
  {
   "cell_type": "code",
   "execution_count": 70,
   "metadata": {
    "collapsed": false
   },
   "outputs": [
    {
     "data": {
      "image/png": "[encoded data removed]",
      "text/plain": [
       "<matplotlib.figure.Figure at 0x15a90e80>"
      ]
     },
     "metadata": {},
     "output_type": "display_data"
    }
   ],
   "source": [
    "# Display heat map \n",
    "fig, ax = plt.subplots(1, 1, figsize=(6, 6))\n",
    "\n",
    "ax.pcolor(corr_matrix)\n",
    "\n",
    "ax.set_title('Heatmap of correlation matrix')\n",
    "\n",
    "plt.show()"
   ]
  },
  {
   "cell_type": "markdown",
   "metadata": {},
   "source": [
    " <span style=\"color:darkblue\">\n",
    "** Comment: ** <br>\n",
    "pc It also shows that there are natural groups amongst them. There is a correlated group among the variables 0 to 2 and 3 to 6.<br>\n",
    "</span>\n",
    "<br>\n",
    "<span style=\"color:darkblue\">\n",
    "When building a good regression model with a subset i would pick on of the variables 0 to 2, one 3 to 6 and 7, 8 and 9, i.e., 5 variables. \n",
    "</span>\n",
    "\n",
    "\n",
    "\n",
    "\n",
    "\n"
   ]
  },
  {
   "cell_type": "markdown",
   "metadata": {},
   "source": [
    "### Part (b): Selecting minimal subset of predictors\n",
    "\n",
    "- Apply the variable selection methods discussed in class to choose a minimal subset of predictors that yield high prediction accuracy:\n",
    "    \n",
    "    - Exhaustive search\n",
    "    \n",
    "    - Step-wise forward selection **or** Step-wise backward selection  \n",
    "\n",
    "&emsp;&nbsp;&nbsp; In each method, use the Bayesian Information Criterion (BIC) to choose the subset size.\n",
    "\n",
    "- Do the chosen subsets match the ones you picked using the correlation matrix you had visualized in Part (a)?\n",
    "\n",
    "**Note**: You may use the `statsmodels`'s `OLS` module to fit a linear regression model and evaluate BIC. You may **not** use library functions that implement variable selection."
   ]
  },
  {
   "cell_type": "code",
   "execution_count": 71,
   "metadata": {
    "collapsed": false
   },
   "outputs": [
    {
     "name": "stdout",
     "output_type": "stream",
     "text": [
      "Best subset by exhaustive search:\n",
      "[0, 5, 7, 8, 9]\n"
     ]
    }
   ],
   "source": [
    "### Best Subset Selection\n",
    "min_bic = 1e10 # set some initial large value for min BIC score\n",
    "best_subset = [] # best subset of predictors\n",
    "\n",
    "# Create all possible subsets of the set of 10 predictors\n",
    "predictor_set = set(range(10)) # predictor set = {0, 1, 2, 3, 4, 5, 6, 7, 8, 9}\n",
    "\n",
    "# Repeat for every possible size of subset\n",
    "for size_k in range(10): \n",
    "    # Create all possible subsets of size 'size', \n",
    "    # using the 'combination' function from the 'itertools' library\n",
    "    subsets_of_size_k = it.combinations(predictor_set, size_k + 1) \n",
    "    \n",
    "    max_r_squared = -1e10 # set some initial small value for max R^2 score\n",
    "    best_k_subset = [] # best subset of predictors of size k\n",
    "    \n",
    "    # Iterate over all subsets of our predictor set\n",
    "    for predictor_subset in subsets_of_size_k:    \n",
    "        # Use only a subset of predictors in the training data\n",
    "        x_subset = x[:, predictor_subset]\n",
    "\n",
    "        # Fit and evaluate R^2\n",
    "        model = OLS(y, x_subset)\n",
    "        results = model.fit()\n",
    "        r_squared = results.rsquared\n",
    "        \n",
    "        # Update max R^2 and best predictor subset of size k\n",
    "        # If current predictor subset has a higher R^2 score than that of the best subset \n",
    "        # we've found so far, remember the current predictor subset as the best!\n",
    "        if(r_squared > max_r_squared): \n",
    "            max_r_squared = r_squared\n",
    "            best_k_subset = predictor_subset[:]\n",
    "                \n",
    "\n",
    "    # Use only the best subset of size k for the predictors\n",
    "    x_subset = x[:, best_k_subset]\n",
    "        \n",
    "    # Fit and evaluate BIC of the best subset of size k\n",
    "    model = OLS(y, x_subset)\n",
    "    results = model.fit()\n",
    "    bic = results.bic\n",
    "    \n",
    "    # Update minimum BIC and best predictor subset\n",
    "    # If current predictor has a lower BIC score than that of the best subset \n",
    "    # we've found so far, remember the current predictor as the best!\n",
    "    if(bic < min_bic): \n",
    "        min_bic = bic\n",
    "        best_subset = best_k_subset[:]\n",
    "    \n",
    "print('Best subset by exhaustive search:')\n",
    "print sorted(best_subset)"
   ]
  },
  {
   "cell_type": "code",
   "execution_count": 72,
   "metadata": {
    "collapsed": false
   },
   "outputs": [
    {
     "name": "stdout",
     "output_type": "stream",
     "text": [
      "Step-wise forward subset selection:\n",
      "[0, 5, 7, 8, 9]\n"
     ]
    }
   ],
   "source": [
    "### Step-wise Forward Selection\n",
    "d = x.shape[1] # total no. of predictors\n",
    "\n",
    "# Keep track of current set of chosen predictors, and the remaining set of predictors\n",
    "current_predictors = [] \n",
    "remaining_predictors = range(d)\n",
    "\n",
    "# Set some initial large value for min BIC score for all possible subsets\n",
    "global_min_bic = 1e10 \n",
    "\n",
    "# Keep track of the best subset of predictors\n",
    "best_subset = [] \n",
    "\n",
    "# Iterate over all possible subset sizes, 0 predictors to d predictors\n",
    "for size in range(d):    \n",
    "    max_r_squared = -1e10 # set some initial small value for max R^2\n",
    "    best_predictor = -1 # set some throwaway initial number for the best predictor to add\n",
    "    bic_with_best_predictor = 1e10 # set some initial large value for BIC score   \n",
    "        \n",
    "    # Iterate over all remaining predictors to find best predictor to add\n",
    "    for i in remaining_predictors:\n",
    "        # Make copy of current set of predictors\n",
    "        temp = current_predictors[:]\n",
    "        # Add predictor 'i'\n",
    "        temp.append(i)\n",
    "                                    \n",
    "        # Use only a subset of predictors in the training data\n",
    "        x_subset = x[:, temp]\n",
    "        \n",
    "        # Fit and evaluate R^2\n",
    "        model = OLS(y, x_subset)\n",
    "        results = model.fit()\n",
    "        r_squared = results.rsquared\n",
    "        \n",
    "        # Check if we get a higher R^2 value than than current max R^2, if so, update\n",
    "        if(r_squared > max_r_squared):\n",
    "            max_r_squared = r_squared\n",
    "            best_predictor = i\n",
    "            bic_with_best_predictor = results.bic\n",
    "    \n",
    "    # Remove best predictor from remaining list, and add best predictor to current list\n",
    "    remaining_predictors.remove(best_predictor)\n",
    "    current_predictors.append(best_predictor)\n",
    "    \n",
    "    # Check if BIC for with the predictor we just added is lower than \n",
    "    # the global minimum across all subset of predictors\n",
    "    if(bic_with_best_predictor < global_min_bic):\n",
    "        best_subset = current_predictors[:]\n",
    "        global_min_bic = bic_with_best_predictor\n",
    "    \n",
    "print 'Step-wise forward subset selection:'\n",
    "print sorted(best_subset) # add 1 as indices start from 0"
   ]
  },
  {
   "cell_type": "code",
   "execution_count": 73,
   "metadata": {
    "collapsed": false
   },
   "outputs": [
    {
     "name": "stdout",
     "output_type": "stream",
     "text": [
      "Step-wise backward subset selection:\n",
      "[2, 5, 7, 8, 9]\n"
     ]
    }
   ],
   "source": [
    "###  Step-wise Backward Selection\n",
    "d = x.shape[1] # total no. of predictors\n",
    "\n",
    "# Keep track of current set of chosen predictors\n",
    "current_predictors = range(d)\n",
    "\n",
    "# First, fit and evaluate BIC using all 'd' number of predictors\n",
    "model = OLS(y, x)\n",
    "results = model.fit()\n",
    "bic_all = results.bic\n",
    "\n",
    "# Set the minimum BIC score, initially, to the BIC score using all 'd' predictors\n",
    "global_min_bic = bic_all\n",
    "# Keep track of the best subset of predictors\n",
    "best_subset = [] \n",
    "\n",
    "# Iterate over all possible subset sizes, d predictors to 1 predictor\n",
    "for size in range(d - 1, 1, -1): # stop before 0 to avoid choosing an empty set of predictors\n",
    "    max_r_squared = -1e10 # set some initial small value for max R^2\n",
    "    worst_predictor = -1 # set some throwaway initial number for the worst predictor to remove\n",
    "    bic_without_worst_predictor = 1e10 # set some initial large value for min BIC score  \n",
    "        \n",
    "    # Iterate over current set of predictors (for potential elimination)\n",
    "    for i in current_predictors:\n",
    "        # Create copy of current predictors, and remove predictor 'i'\n",
    "        temp = current_predictors[:]\n",
    "        temp.remove(i)\n",
    "                                    \n",
    "        # Use only a subset of predictors in the training data\n",
    "        x_subset = x[:, temp]\n",
    "        \n",
    "        # Fit and evaluate R^2\n",
    "        model = OLS(y, x_subset)\n",
    "        results = model.fit()\n",
    "        r_squared = results.rsquared\n",
    "        \n",
    "        # Check if we get a higher R^2 value than than current max R^2, if so, update\n",
    "        if(r_squared > max_r_squared):\n",
    "            max_r_squared = r_squared\n",
    "            worst_predictor = i\n",
    "            bic_without_worst_predictor = results.bic\n",
    "          \n",
    "    # Remove worst predictor from current set of predictors\n",
    "    current_predictors.remove(worst_predictor)\n",
    "    \n",
    "    # Check if BIC for the predictor we just removed is lower than \n",
    "    # the global minimum across all subset of predictors\n",
    "    if(bic_without_worst_predictor < global_min_bic):\n",
    "        best_subset = current_predictors[:]\n",
    "        global_min_bic = bic_without_worst_predictor\n",
    "    \n",
    "print 'Step-wise backward subset selection:'\n",
    "print sorted(best_subset)"
   ]
  },
  {
   "cell_type": "markdown",
   "metadata": {},
   "source": [
    " <span style=\"color:darkblue\">\n",
    "** Comment: ** <br>\n",
    "The subset selection shows that similar variables as the ones picked by me are chosen, i.e., [2, 5, 7, 8, 9] or [0, 5, 7, 8, 9]. \n",
    "</span>\n",
    "\n",
    "\n"
   ]
  },
  {
   "cell_type": "markdown",
   "metadata": {},
   "source": [
    "### Part (c): Apply Lasso and Ridge regression\n",
    "\n",
    "- Apply Lasso regression with regularization parameter $\\lambda = 0.01$ and fit a regression model.\n",
    "\n",
    "    - Identify the predictors that are assigned non-zero coefficients. Do these correspond to  the correlation matrix in Part (a)?\n",
    "\n",
    "\n",
    "- Apply Ridge regression with regularization parameter $\\lambda = 0.01$ and fit a regression model.\n",
    "\n",
    "    - Is there a difference between the model parameters you obtain different and those obtained from Lasso regression? If so, explain why.\n",
    "\n",
    "    - Identify the predictors that are assigned non-zero coefficients. Do these correspond to  the correlation matrix in Part (a)?\n",
    "\n",
    "\n",
    "- Is there anything peculiar that you observe about the coefficients Ridge regression assigns to the first three predictors? Do you observe the same with Lasso regression? Give an explanation for your observation.\n",
    "\n",
    "**Note**: You may use the `statsmodels` or `sklearn` to perform Lasso and Ridge regression."
   ]
  },
  {
   "cell_type": "code",
   "execution_count": 74,
   "metadata": {
    "collapsed": false
   },
   "outputs": [
    {
     "name": "stdout",
     "output_type": "stream",
     "text": [
      "Lasso:\n",
      "Coefficients: [ 0.02717417  0.          0.         -0.         -0.02532806 -0.         -0.\n",
      "  0.04397321 -0.40612185 -0.22260474]\n",
      "Predictors with non-zero coefficients: [0, 4, 7, 8, 9]\n"
     ]
    }
   ],
   "source": [
    "# Lasso regression\n",
    "reg = Lasso_Reg(alpha = 0.01)\n",
    "reg.fit(x, y)\n",
    "coefficients = reg.coef_\n",
    "\n",
    "print 'Lasso:'\n",
    "print 'Coefficients:', coefficients\n",
    "print  'Predictors with non-zero coefficients:', [i for i, item in enumerate(coefficients) if abs(item) > 0]"
   ]
  },
  {
   "cell_type": "markdown",
   "metadata": {},
   "source": [
    " <span style=\"color:darkblue\">\n",
    "** Comment: ** <br>\n",
    "The predictors correspond with the correlation matrix, i.e., [0, 4, 7, 8, 9]</span>\n",
    "\n",
    "\n"
   ]
  },
  {
   "cell_type": "code",
   "execution_count": 75,
   "metadata": {
    "collapsed": false
   },
   "outputs": [
    {
     "name": "stdout",
     "output_type": "stream",
     "text": [
      "Ridge:\n",
      "Coefficients: [ 0.04353543  0.04353543  0.04353543  0.55217415 -0.19706852 -0.61421737\n",
      "  0.30484213  0.18742866 -0.50083242 -0.35908145]\n",
      "Predictors with non-zero coefficients: [0, 1, 2, 3, 4, 5, 6, 7, 8, 9]\n"
     ]
    }
   ],
   "source": [
    "# Ridge regression: Fit and evaluate \n",
    "reg = Ridge_Reg(alpha = 0.01)\n",
    "x[:,1] = x[:,0]\n",
    "x[:,2] = x[:,0]\n",
    "reg.fit(x, y)\n",
    "coefficients = reg.coef_\n",
    "\n",
    "print 'Ridge:'\n",
    "print 'Coefficients:', coefficients\n",
    "print 'Predictors with non-zero coefficients:', [i for i, item in enumerate(coefficients) if abs(item) > 0]"
   ]
  },
  {
   "cell_type": "markdown",
   "metadata": {},
   "source": [
    "<span style=\"color:darkblue\">\n",
    "** Comment: ** <br>\n",
    "As is to be expected, the ridge regression selects all variables, i.e., [0, 1, 2, 3, 4, 5, 6, 7, 8, 9]. That means it doesn't correspond with the correlation matrix. \n",
    "</span>\n",
    "<br>\n",
    "\n",
    "<span style=\"color:darkblue\">\n",
    "The ridge regression assigns exactly the same value to the variables 0 to 2. This is because there is a prefect i.e., 1:1 correlation between those variables. The lasso regression doesn't show the same behavior, as there is only on of those variables selected.\n",
    "</span>\n"
   ]
  },
  {
   "cell_type": "markdown",
   "metadata": {},
   "source": [
    "## Problem 2: Cross-validation and Bootstrapping\n",
    "In this problem, you will work with an expanded version of the automobile pricing data set you analyzed in Homework 3. The data set is contained ``dataset_2.txt``, with 26 attribues (i.e. predictors) for each automobile and corresponding prices. \n",
    "\n",
    "### Part(a): Encode categorical attributes and fill missing values\n",
    "Identify the categorical attributes in the data. Replace their values with the one-hot binary encoding. You may do this using the `get_dummies()` function in `pandas`. If you do this task correctly, you should get a total of 69 predictors after the encoding.\n"
   ]
  },
  {
   "cell_type": "code",
   "execution_count": 76,
   "metadata": {
    "collapsed": false
   },
   "outputs": [
    {
     "name": "stdout",
     "output_type": "stream",
     "text": [
      "(205, 69)\n"
     ]
    }
   ],
   "source": [
    "## Load data\n",
    "data = pd.read_csv('datasets/dataset_2.txt')\n",
    "\n",
    "# Split predictors and response\n",
    "y = data.iloc[:, -1]\n",
    "x = data.iloc[:, :-1]\n",
    "\n",
    "## Transformations\n",
    "# Transform symboling into categorical variable\n",
    "x['symboling'] = x['symboling'].astype(object)\n",
    "\n",
    "# Get categorical values\n",
    "categorical_bolean = (x.dtypes == \"object\").values\n",
    "x_numeric = x.loc[:, ~categorical_bolean]\n",
    "x_categorical = x.loc[:, categorical_bolean]\n",
    "x_dummies = pd.get_dummies(x_categorical)\n",
    "\n",
    "## Scale the numerical x variables\n",
    "x_numeric = x_numeric / x_numeric.std(axis=0)\n",
    "\n",
    "## Bind data together\n",
    "x = pd.concat([x_numeric, x_dummies], axis=1)\n",
    "print x.shape\n"
   ]
  },
  {
   "cell_type": "markdown",
   "metadata": {},
   "source": [
    "### Part (b): Apply regular linear regression\n",
    "- Split the data set into train and test sets, with the first 25% of the data for training and the remaining for testing.  \n",
    "\n",
    "\n",
    "- Use regular linear regression to fit a model to the training set and evaluate the R^2 score of the fitted model on both the training and test sets. What do you observe about these values?\n",
    "\n",
    "\n",
    "- You had seen in class that the R^2 value of a least-squares fit to a data set would lie between 0 and 1. Is this true for the test R^2 values reported above? If not, give a reason for why this is the case.\n",
    "\n",
    "\n",
    "- Is there a need for regularization while fitting a linear model to this data set?\n",
    "\n",
    "**Note**: You may use the `statsmodels` or `sklearn` to fit a linear regression model and evaluate the fits."
   ]
  },
  {
   "cell_type": "code",
   "execution_count": 77,
   "metadata": {
    "collapsed": false
   },
   "outputs": [],
   "source": [
    "## Split the dataset\n",
    "np.random.seed(856) # Set seed\n",
    "x_train, x_test = train_test_split(x, test_size = 0.25)\n",
    "\n",
    "## Split the variables\n",
    "y_train = y.iloc[x_train.index.values]\n",
    "y_test = y.iloc[x_test.index.values]\n",
    "x_train = x.iloc[x_train.index.values, :]\n",
    "x_test = x.iloc[x_test.index.values, :]\n",
    "\n",
    "## Transform to numpy \n",
    "y_train = y_train.values\n",
    "y_test = y_test.values\n",
    "x_train = x_train.values\n",
    "x_test = x_test.values\n"
   ]
  },
  {
   "cell_type": "code",
   "execution_count": 78,
   "metadata": {
    "collapsed": false
   },
   "outputs": [
    {
     "name": "stdout",
     "output_type": "stream",
     "text": [
      "Plain Regression: R^2 score on training set 0.990955195397\n",
      "Plain Regression: R^2 score on test set 0.958059163439\n"
     ]
    }
   ],
   "source": [
    "# First, let's do plain OLS\n",
    "reg = Lin_Reg()\n",
    "reg.fit(x_train, y_train)\n",
    "\n",
    "train_r_squared_plain = reg.score(x_train, y_train)\n",
    "test_r_squared_plain = reg.score(x_test, y_test)\n",
    "\n",
    "print 'Plain Regression: R^2 score on training set', train_r_squared_plain\n",
    "print 'Plain Regression: R^2 score on test set', test_r_squared_plain"
   ]
  },
  {
   "cell_type": "markdown",
   "metadata": {},
   "source": [
    "<span style=\"color:darkblue\">\n",
    "** Comment: ** <br>\n",
    "The R^2 values of the model are very high, i.e., 99% in the training an 95% in the test set. That is a near perfect fit. However, as is to be expected, the training set overfits the data a bit. Which can be noticed by the smaller test R^2. As it should be, both values lie between 0 and 1.\n",
    "</span>\n",
    "<br>\n",
    "\n",
    "<span style=\"color:darkblue\">\n",
    "In this case of the linear regression it is not necessary to regularize the data. \n",
    "</span>\n",
    "\n"
   ]
  },
  {
   "cell_type": "markdown",
   "metadata": {},
   "source": [
    "### Part (c): Apply Ridge regression\n",
    "\n",
    "- Apply Ridge regression on the training set for different values of the regularization parameter $\\lambda$ in the range $\\{10^{-7}, 10^{-6}, \\ldots, 10^7\\}$. Evaluate the R^2 score for the models you obtain on both the train and test sets. Plot both values as a function of $\\lambda$. \n",
    "\n",
    "\n",
    "- Explain the relationship between the regularization parameter and the training and test R^2 scores.\n",
    "\n",
    "\n",
    "- How does the best test R^2 value obtained using Ridge regression compare with that of plain linear regression? Explain.\n",
    "\n",
    "**Note**: You may use the `statsmodels` or `sklearn` to fit a ridge regression model and evaluate the fits."
   ]
  },
  {
   "cell_type": "code",
   "execution_count": 79,
   "metadata": {
    "collapsed": false
   },
   "outputs": [
    {
     "name": "stdout",
     "output_type": "stream",
     "text": [
      "Ridge:\n",
      "Coefficients: [  992.92148619   553.97771546   444.35687821  -828.94054753  -525.36834772\n",
      "  2211.93526343   459.23600141  1160.12392818  4443.04676286 -1125.6272756\n",
      " -1718.78978862   315.37876754   344.79954543  -758.59928852  -924.65800278\n",
      "   -36.75443242   457.93905479  1014.82987063  -630.91902486   119.56253464\n",
      "   395.33569594  2884.31772629    77.27639028 -1644.3110965     13.51645961\n",
      "  -704.2174629   3183.18495578 -1863.20872571 -1458.68909567  -836.10191045\n",
      "  -667.66261737 -1441.07097977  2494.76231488   567.89881667  1449.1084432\n",
      " -2179.99901015  -893.98887089  -364.09680086   987.94576763    71.98632035\n",
      "   -71.98632035  -905.22298642   905.22298642   181.93047182  -181.93047182\n",
      "  2266.97626872   459.87867544  -736.78619848  -871.37469    -1118.69405569\n",
      "    37.65252076    17.84309103   -55.49561178 -2998.30613842  2998.30613842\n",
      "    77.68045447  -667.66261737  1229.61288637   818.30712827 -1457.93785174\n",
      "  2794.18813447  -659.19799568  -128.44268015 -2006.54745864    13.51645961\n",
      "   494.53946992    71.98632035    79.19678992  -659.2390398 ]\n",
      "Selected predictors: [0, 1, 2, 3, 4, 5, 6, 7, 8, 9, 10, 11, 12, 13, 14, 15, 16, 17, 18, 19, 20, 21, 22, 23, 24, 25, 26, 27, 28, 29, 30, 31, 32, 33, 34, 35, 36, 37, 38, 39, 40, 41, 42, 43, 44, 45, 46, 47, 48, 49, 50, 51, 52, 53, 54, 55, 56, 57, 58, 59, 60, 61, 62, 63, 64, 65, 66, 67, 68]\n",
      "Ridge Regression: R^2 score on training set 0.981590182809\n",
      "Ridge Regression: R^2 score on test set 0.97329430963\n"
     ]
    }
   ],
   "source": [
    "# Ridge regression: Fit and evaluate \n",
    "reg = Ridge_Reg(alpha = 1.0)\n",
    "reg.fit(x_train, y_train)\n",
    "coefficients = reg.coef_\n",
    "\n",
    "predictors = [i for i, item in enumerate(coefficients) if abs(item) > 0]\n",
    "\n",
    "print 'Ridge:'\n",
    "print 'Coefficients:', coefficients\n",
    "print 'Selected predictors:',predictors  \n",
    "print 'Ridge Regression: R^2 score on training set', reg.score(x_train,y_train)\n",
    "print 'Ridge Regression: R^2 score on test set', reg.score(x_test,y_test)"
   ]
  },
  {
   "cell_type": "code",
   "execution_count": 80,
   "metadata": {
    "collapsed": true
   },
   "outputs": [],
   "source": [
    "# Run for different values of lambda \n",
    "lambda_min = -7\n",
    "lambda_max = 7\n",
    "\n",
    "num_lambdas = 15\n",
    "num_predictors = x.shape[1]\n",
    "\n",
    "lambdas= np.linspace(lambda_min,lambda_max, num_lambdas)\n",
    "\n",
    "train_r_squared = np.zeros(num_lambdas)\n",
    "test_r_squared = np.zeros(num_lambdas)\n",
    "\n",
    "coeff_a = np.zeros((num_lambdas, num_predictors))"
   ]
  },
  {
   "cell_type": "code",
   "execution_count": 81,
   "metadata": {
    "collapsed": false
   },
   "outputs": [],
   "source": [
    "for ind, i in enumerate(lambdas):    \n",
    "    # Fit ridge regression on train set\n",
    "    reg = Ridge_Reg(alpha = 10**i)\n",
    "    reg.fit(x_train, y_train)\n",
    "       \n",
    "    coeff_a[ind,:] = reg.coef_\n",
    "    # Evaluate train & test performance\n",
    "    train_r_squared[ind] = reg.score(x_train, y_train)\n",
    "    test_r_squared[ind] = reg.score(x_test, y_test)\n"
   ]
  },
  {
   "cell_type": "code",
   "execution_count": 82,
   "metadata": {
    "collapsed": false
   },
   "outputs": [
    {
     "data": {
      "image/png": "[encoded data removed]",
      "text/plain": [
       "<matplotlib.figure.Figure at 0x1149d518>"
      ]
     },
     "metadata": {},
     "output_type": "display_data"
    }
   ],
   "source": [
    "# Plotting\n",
    "plt.figure(figsize=(18, 8))\n",
    "plt.plot(train_r_squared, 'bo-', label=r'$R^2$ Training set', color=\"darkblue\", alpha=0.6, linewidth=3)\n",
    "plt.plot(test_r_squared, 'bo-', label=r'$R^2$ Test set', color=\"darkred\", alpha=0.6, linewidth=3)\n",
    "plt.xlabel('Lamda value'); plt.ylabel(r'$R^2$')\n",
    "plt.xlim(0, 14)\n",
    "plt.title(r'Evaluate ridge regression $R^2$ with different lamdas')\n",
    "plt.legend(loc='best')\n",
    "plt.grid()\n"
   ]
  },
  {
   "cell_type": "markdown",
   "metadata": {},
   "source": [
    "<span style=\"color:darkblue\">\n",
    "** Comment: ** <br>\n",
    "The best R^2 in the test set is reached when the lamda value is 0, i.e., when a standard linear regression is performed. That means that with this particular data set the variables shouldn't be scaled back. A lamda of zero means a OLS is preformerd while when the lamda goes to infinity the coefficients go to zero.\n",
    "</span>\n",
    "<br>"
   ]
  },
  {
   "cell_type": "markdown",
   "metadata": {},
   "source": [
    "### Part (d): Tune regularization parameter using cross-validation and bootstrapping\n",
    "-  Evaluate the performance of the Ridge regression for different regularization parameters $\\lambda$ using 5-fold cross validation **or** bootstrapping on the training set. \n",
    "\n",
    "    - Plot the cross-validation (CV) or bootstrapping R^2 score as a function of $\\lambda$. \n",
    "    \n",
    "    - How closely does the CV score or bootstrapping score match the R^2 score on the test set? Does the model with lowest CV score or bootstrapping score correspond to the one with maximum R^2 on the test set?\n",
    "    \n",
    "    - Does the model chosen by CV or bootstrapping perform better than plain linear regression?\n",
    "\n",
    "**Note**: You may use the `statsmodels` or `sklearn` to fit a linear regression model and evaluate the fits. You may also use `kFold` from `sklearn.cross_validation`. "
   ]
  },
  {
   "cell_type": "code",
   "execution_count": 83,
   "metadata": {
    "collapsed": false
   },
   "outputs": [],
   "source": [
    "# Run for different values of lambda \n",
    "lambda_min = -7\n",
    "lambda_max = 7\n",
    "\n",
    "num_lambdas = 15\n",
    "num_predictors = x.shape[1]\n",
    "\n",
    "lambdas= np.linspace(lambda_min,lambda_max, num_lambdas)\n",
    "\n",
    "train_r_squared = np.zeros(num_lambdas)\n",
    "test_r_squared = np.zeros(num_lambdas)"
   ]
  },
  {
   "cell_type": "code",
   "execution_count": 84,
   "metadata": {
    "collapsed": false
   },
   "outputs": [],
   "source": [
    "kfold = KFold(n=len(x), n_folds=5, random_state=123)\n",
    "\n",
    "for ind, i in enumerate(lambdas):    \n",
    "    # Fit ridge regression on train set\n",
    "    reg = Ridge_Reg(alpha = 10**i)\n",
    "    reg.fit(x_train, y_train)\n",
    "    results = cross_val_score(reg, x, y, cv=kfold, scoring=\"r2\")\n",
    "   \n",
    "    # Evaluate train & test performance\n",
    "    train_r_squared[ind] = results.mean()\n",
    "    test_r_squared[ind] = reg.score(x_test, y_test)\n"
   ]
  },
  {
   "cell_type": "code",
   "execution_count": 85,
   "metadata": {
    "collapsed": false
   },
   "outputs": [
    {
     "data": {
      "image/png": "[encoded data removed]",
      "text/plain": [
       "<matplotlib.figure.Figure at 0xc258d68>"
      ]
     },
     "metadata": {},
     "output_type": "display_data"
    }
   ],
   "source": [
    "# Plotting\n",
    "plt.figure(figsize=(18, 8))\n",
    "plt.plot(train_r_squared, 'bo-', label=r'$R^2$ Training set', color=\"darkblue\", alpha=0.6, linewidth=3)\n",
    "plt.plot(test_r_squared, 'bo-', label=r'$R^2$ Test set', color=\"darkred\", alpha=0.6, linewidth=3)\n",
    "plt.xlabel('Lamda value'); plt.ylabel(r'$R^2$')\n",
    "plt.xlim(0, 14)\n",
    "plt.title(r'Evaluate 5-fold cv with different lamdas')\n",
    "plt.legend(loc='best')\n",
    "plt.grid()\n"
   ]
  },
  {
   "cell_type": "markdown",
   "metadata": {},
   "source": [
    "<span style=\"color:darkblue\">\n",
    "** Comment: ** <br>\n",
    "The $R^2$ for the test set from the cross validation follows a similar shape to the $R^2$ score on the test set from the other regressions.\n",
    "</span>\n",
    "\n",
    "<span style=\"color:darkblue\">\n",
    "The maximum $R^2$ from cross validation is achieved for $\\lambda = 0$ and from ridge regression prediction on the test set, the maximum value of $R^2$ is also achieved with $\\lambda = 0$. That mean both the CV and the ridge regression select the same model as the OLS. \n",
    "</span>\n",
    "\n",
    "<span style=\"color:darkblue\">\n",
    "The lowest MSE is achieved for $\\lambda = 0$ which corresponds to the model selected by the R^2 measure.   \n",
    "</span>\n",
    "\n",
    "<span style=\"color:darkblue\">\n",
    "As all the models tend to go to lamda = 0 they perform the same as the OLS regression.\n",
    "</span>\n",
    "\n",
    "\n"
   ]
  },
  {
   "cell_type": "markdown",
   "metadata": {},
   "source": [
    "## Problem 3: Ridge regression *via* ordinary least-squares regression\n",
    "\n",
    "We present an approach to implement Ridge regression using oridinary least-squares regression. Given a matrix of responses $\\mathbf{X} \\in \\mathbb{R}^{n\\times p}$ and response vector $\\mathbf{y} \\in \\mathbb{R}^{n}$, one can implement Ridge regression with regularization parameter $\\lambda$ as follows:\n",
    "\n",
    "- Augment the matrix of predictors $\\mathbf{X}$ with $p$ new rows containing the scaled identity matrix $\\sqrt{\\lambda}\\mathbf{I} \\in \\mathbb{R}^{p \\times p}$, i.e.\n",
    "$$\\overline{\\mathbf{X}} \\,=\\, \n",
    "\\begin{bmatrix}\n",
    "X_{11} & \\ldots & X_{1p}\\\\\n",
    "\\vdots & \\ddots & \\vdots\\\\\n",
    "X_{n1} & \\ldots & X_{np}\\\\\n",
    "\\sqrt{\\lambda} & \\ldots & 0\\\\\n",
    "\\vdots & \\ddots & \\vdots\\\\\n",
    "0 & \\ldots & \\sqrt{\\lambda}\n",
    "\\end{bmatrix}\n",
    "\\,\\in\\,\n",
    "\\mathbb{R}^{(n+p)\\times p}\n",
    ".\n",
    "$$\n",
    "\n",
    "\n",
    "- Augment the response vector $\\mathbf{y}$ with a column of $p$ zeros, i.e.\n",
    "$$\n",
    "\\overline{\\mathbf{y}} \\,=\\, \n",
    "\\begin{bmatrix}\n",
    "y_{1}\\\\\n",
    "\\vdots\\\\\n",
    "y_{n}\\\\\n",
    "0\\\\\n",
    "\\vdots\\\\\n",
    "0\n",
    "\\end{bmatrix}\n",
    "\\,\\in\\,\n",
    "\\mathbb{R}^{n+p}.\n",
    "$$\n",
    "\n",
    "\n",
    "- Apply ordinary least-squares regression on the augmented data set $(\\overline{\\mathbf{X}}, \\overline{\\mathbf{y}})$.\n",
    "\n",
    "### Part (a): Show the proposed approach implements Ridge regression\n",
    "Show that the approach proposed above implements Ridge regression with parameter $\\lambda$."
   ]
  },
  {
   "cell_type": "markdown",
   "metadata": {},
   "source": [
    "<span style=\"color:darkblue\">\n",
    "** Solution: ** <br>\n",
    "The ridge regression takes the following form:\n",
    "$$L(\\beta) = (Y-X\\beta)^T(Y-X\\beta) + \\lambda\\beta^T\\beta $$\n",
    "</span>\n",
    "\n",
    "<span style=\"color:darkblue\">\n",
    "The normal equations for ridge regression is:\n",
    "$$(X^T\\,X + \\lambda I)\\beta =  X^T Y $$\n",
    "</span>\n",
    "\n",
    "<span style=\"color:darkblue\">\n",
    "so $\\beta$ is solved by using the following matrix inverse:\n",
    "$$\\beta = (X^T\\,X + \\lambda I)^{-1} X^T Y $$\n",
    "</span>\n",
    "\n",
    "<span style=\"color:darkblue\">\n",
    "X and Y can be enhanced so that the normal equation has the same form as for ordinary least squeres. That means including the $\\lambda\\beta^2$ into an $\\overline{\\mathbf{X}}$ matrix and $\\overline{\\mathbf{y}}$ vector.  As $\\lambda >0$ the square root $\\sqrt{\\lambda}$ will be positive so the matrix X (an n×p matrix) can be augemented by appending the p x p matrix  $\\sqrt{\\lambda}I$, and the vector Y can be extended by appending a column of p zeros. The product $(\\overline{\\mathbf{y}}-\\overline{\\mathbf{X}}\\beta)^T(\\overline{\\mathbf{y}}-\\overline{\\mathbf{X}}\\beta)$ adds an additional p terms to the objective function of ordinary least squares of the form: \n",
    "</span>\n",
    "\n",
    "<span style=\"color:darkblue\">\n",
    "$$(0 - \\sqrt{\\lambda}\\beta_i)^2 = \\lambda\\beta^T\\beta$$\n",
    "which equals to the additional term in the function for the ridge regression.\n",
    "</span>\n",
    "\n",
    "<span style=\"color:darkblue\">\n",
    "That means that the normal equation for $\\beta$ using the ridge regression can be rewritten as\n",
    "$$(Y-X\\beta)^T(Y-X\\beta) + \\lambda\\beta^2  = (\\overline{\\mathbf{y}}-\\overline{\\mathbf{X}}\\beta)^T(\\overline{\\mathbf{y}}-\\overline{\\mathbf{X}}\\beta)$$\n",
    "</span>\n",
    "\n",
    "<span style=\"color:darkblue\">\n",
    "From the right the normal equation can then be rewritten as:\n",
    "$${\\overline{\\mathbf{X}}}^T\\,\\overline{\\mathbf{X}}\\beta =  {\\overline{\\mathbf{X}}}^T \\overline{\\mathbf{y}} $$\n",
    "</span>\n",
    "\n",
    "<span style=\"color:darkblue\">\n",
    "which then can be solved using OLS.\n",
    "</span>\n"
   ]
  },
  {
   "cell_type": "markdown",
   "metadata": {},
   "source": [
    "<span style=\"color:darkblue\">\n",
    "The function for ridge regression takes the form:\n",
    "$$F(\\beta) = (Y-X\\beta)^T(Y-X\\beta) + \\lambda\\beta^T\\beta $$\n",
    "</span>\n",
    "\n",
    "<span style=\"color:darkblue\">\n",
    "The function for OLS regression with $(\\overline{\\mathbf{X}}, \\overline{\\mathbf{y}})$ takes the form:\n",
    "$$F(\\beta)= (\\overline{\\mathbf{y}} - \\overline{\\mathbf{X}})^T(\\overline{\\mathbf{y}} - \\overline{\\mathbf{X}})$$\n",
    "</span>\n",
    "\n",
    "<span style=\"color:darkblue\">$\\overline{\\mathbf{y}}^T\\overline{\\mathbf{y}}=y^Ty$, as the bottom p terms of $\\overline{\\mathbf{y}}$ are all zero.</span>\n",
    "\n",
    "<span style=\"color:darkblue\">$\\overline{\\mathbf{y}}^T\\overline{\\mathbf{X}}=y^TX$, as the bottom p terms of $\\overline{\\mathbf{y}}$ are all zero.</span>\n",
    "\n",
    "<span style=\"color:darkblue\">$\\overline{\\mathbf{X}}^T\\overline{\\mathbf{X}}=\\Big( X^T \\ \\sqrt{\\lambda}I_p \\Big) \\begin{pmatrix}X \\sqrt{\\lambda}I_p\\end{pmatrix}$.</span>\n",
    "\n",
    "<span style=\"color:darkblue\">\n",
    "That means,\n",
    "$$ L_{OLS}({\\beta}) = (\\overline{\\mathbf{y}}-\\overline{\\mathbf{X}}\\beta)^T(\\overline{\\mathbf{y}} - \\overline{\\mathbf{X}}\\beta)$$\n",
    "</span>\n",
    "\n",
    "<span style=\"color:darkblue\">\n",
    "$$ = \\overline{\\mathbf{y}}^T\\overline{\\mathbf{y}} -2\\overline{\\mathbf{y}}^T\\overline{\\mathbf{X}} \\beta + \\beta^T \\overline{\\mathbf{X}}^T\\overline{\\mathbf{X}} \\beta $$\n",
    "</span>\n",
    "\n",
    "<span style=\"color:darkblue\">\n",
    "$$  = y^Ty -2y^TX + \\beta^T (X^T X + \\lambda I_p) \\beta $$\n",
    "$$  = y^Ty -2y^TX + \\beta^T(X^T X)\\beta + \\lambda \\beta^T\\beta $$\n",
    "$$  = (y-X\\beta)^T(y-X\\beta) + \\lambda\\beta^T\\beta $$\n",
    "$$  = L_{RIDGE}(\\beta) $$\n",
    "</span>\n",
    "\n",
    "<span style=\"color:darkblue\">\n",
    "That shows that the approach proposed implements Ridge regression with parameter $\\lambda$.\n",
    "</span>"
   ]
  },
  {
   "cell_type": "markdown",
   "metadata": {},
   "source": [
    "### Part (b): Debug our implementation of ridge regression\n",
    "You're a grader for CS109A, the following is an implemention of Ridge regression (via the above approach) submitted by a student. The dataset is ``dataset_3.txt``. The regression model is fitted to a training set, and the R^2 scores of the fitted model on the training and test sets are plotted as a function of the regularization parameter. Grade this solution according to the following rubric (each category is equally weighted): \n",
    "\n",
    "- correctness\n",
    "\n",
    "- interpretation (if applicable)\n",
    "\n",
    "- code/algorithm design\n",
    "\n",
    "- presentation\n",
    "\n",
    "In addition to providing an holistic grade (between 0 to 5), provide a corrected version of this code that is submission quality."
   ]
  },
  {
   "cell_type": "code",
   "execution_count": 86,
   "metadata": {
    "collapsed": false
   },
   "outputs": [
    {
     "data": {
      "text/plain": [
       "[<matplotlib.lines.Line2D at 0x10f887f0>]"
      ]
     },
     "execution_count": 86,
     "metadata": {},
     "output_type": "execute_result"
    },
    {
     "data": {
      "image/png": "[encoded data removed]",
      "text/plain": [
       "<matplotlib.figure.Figure at 0xc289fd0>"
      ]
     },
     "metadata": {},
     "output_type": "display_data"
    }
   ],
   "source": [
    "# Fit\n",
    "def ridge(x_train, y_train, reg_param):\n",
    "    n=np.shape(x_train)[0]\n",
    "    x_train=np.concatenate((x_train,reg_param*np.identity(n)),axis=1)\n",
    "    y_train_=np.zeros((n+np.shape(x_train)[1],1))\n",
    "    for c in range(n):\n",
    "        y_train_[c]= y_train[c]\n",
    "    import sklearn\n",
    "    model = sklearn.linear_model.LinearRegression()\n",
    "    model.fit(x_train,y_train.reshape(-1,1))\n",
    "    return model\n",
    "\n",
    "# Score\n",
    "def score(m,x_test,y_test, reg_param):\n",
    "    n=np.shape(x_train)[0]\n",
    "    x_test=np.concatenate((x_test,reg_param*np.identity(n)),axis=1)\n",
    "    y_test_=np.zeros((n+np.shape(x_test)[1],1))\n",
    "    for c in range(n):\n",
    "        y_test_[c]= y_test[c]\n",
    "    return m.score(x_test,y_test.reshape(-1,1))\n",
    "\n",
    "# Load\n",
    "data = np.loadtxt('datasets/dataset_3.txt', delimiter=',')\n",
    "n = data.shape[0]\n",
    "n = int(np.round(n*0.5))\n",
    "x_train = data[0:n,0:100]\n",
    "y_train = data[0:n,100]\n",
    "x_test = data[n:2*n,0:100]\n",
    "y_test = data[n:2*n,100]\n",
    "\n",
    "# Params\n",
    "a=np.zeros(5)\n",
    "for i in range(-2,2):\n",
    "    a[i+2]=10**i\n",
    "\n",
    "# Iterate\n",
    "rstr =np.zeros(5)\n",
    "rsts =np.zeros(5)\n",
    "for j in range(0,5):    \n",
    "    m =ridge(x_train,y_train,a[i])\n",
    "    rstr[j]=score(m,x_train,y_train,a[j])\n",
    "    rsts[i]=score(m,x_test,y_test,a[i])\n",
    "\n",
    "# Plot\n",
    "plt.plot(a,rstr)\n",
    "plt.plot(a,rsts)"
   ]
  },
  {
   "cell_type": "markdown",
   "metadata": {},
   "source": [
    "<span style=\"color:darkblue\">\n",
    "** Corrected version: **\n",
    "</span>\n"
   ]
  },
  {
   "cell_type": "code",
   "execution_count": 87,
   "metadata": {
    "collapsed": true
   },
   "outputs": [],
   "source": [
    "# Load packages\n",
    "from sklearn.linear_model import LinearRegression as Lin_Reg\n"
   ]
  },
  {
   "cell_type": "code",
   "execution_count": 88,
   "metadata": {
    "collapsed": true
   },
   "outputs": [],
   "source": [
    "# Functions:\n",
    "# Fit\n",
    "def ridge(x_train, y_train, reg_param):\n",
    "    n, p = np.shape(x_train) # x is an n x p matrix\n",
    "    x_train = np.concatenate((x_train, np.sqrt(10.0**reg_param)*np.identity(p)), axis=0)\n",
    "    y_train = np.concatenate((y_train, np.zeros(p)), axis=0)\n",
    "    model = Lin_Reg()\n",
    "    model.fit(x_train, y_train)\n",
    "    return model\n",
    "\n",
    "# Score\n",
    "def score(m, x_test,y_test, reg_param):\n",
    "    n, p = np.shape(x_train) # x is an n x p matrix\n",
    "    x_test = np.concatenate((x_test, np.sqrt(10.0**reg_param)*np.identity(p)), axis=0)\n",
    "    y_test = np.concatenate((y_test, np.zeros(p)), axis=0)\n",
    "    return m.score(x_test, y_test)\n"
   ]
  },
  {
   "cell_type": "code",
   "execution_count": 89,
   "metadata": {
    "collapsed": false
   },
   "outputs": [],
   "source": [
    "# Load\n",
    "data = np.loadtxt('datasets/dataset_3.txt', delimiter=',')\n",
    "\n",
    "# Extract out x and y\n",
    "x_df = data[:, 0:-1]\n",
    "y_df = data[:, -1]\n",
    "\n",
    "n = data.shape[0]\n",
    "n_train = int(np.round(n*0.5))\n",
    "\n",
    "# shuffle data and split into test and train sets\n",
    "indices = np.random.permutation(range(n))\n",
    "train_indices = indices[0:n_train]\n",
    "test_indices = indices[n_train:]\n",
    "\n",
    "x_standardised = x_df\n",
    "\n",
    "x_train = x_standardised[train_indices,:]\n",
    "y_train = y_df[train_indices]\n",
    "x_test = x_standardised[test_indices,:]\n",
    "y_test = y_df[test_indices]"
   ]
  },
  {
   "cell_type": "code",
   "execution_count": 90,
   "metadata": {
    "collapsed": false
   },
   "outputs": [],
   "source": [
    "# Generate an array of lambda values \n",
    "lambdas=np.linspace(-2,2, 100)\n",
    "num_lambdas = len(lambdas)\n",
    "\n",
    "# Initialise empty arrays for storing r2 values\n",
    "r2_train =np.zeros(num_lambdas)\n",
    "r2_test =np.zeros(num_lambdas)"
   ]
  },
  {
   "cell_type": "code",
   "execution_count": 91,
   "metadata": {
    "collapsed": true
   },
   "outputs": [],
   "source": [
    "# Iterate over the values of lambda \n",
    "for i in range(num_lambdas): \n",
    "    # fit a ridge regression model on the training set\n",
    "    model = ridge(x_train,y_train,lambdas[i])\n",
    "    # predict on the test \n",
    "    r2_train[i]=score(model, x_train,y_train,lambdas[i])\n",
    "    r2_test[i]=score(model, x_test,y_test, lambdas[i])\n"
   ]
  },
  {
   "cell_type": "code",
   "execution_count": 92,
   "metadata": {
    "collapsed": false
   },
   "outputs": [
    {
     "data": {
      "image/png": "[encoded data removed]",
      "text/plain": [
       "<matplotlib.figure.Figure at 0x10c8e208>"
      ]
     },
     "metadata": {},
     "output_type": "display_data"
    }
   ],
   "source": [
    "# Ploting\n",
    "fig, ax = plt.subplots(1, 1, figsize=(18, 8))\n",
    "ax.semilogx(10.0**lambdas, (r2_train), c='b', label='Ridge: Train')\n",
    "ax.semilogx(10.0**lambdas, (r2_test), c='r', label='Ridge: Test')\n",
    "\n",
    "ax.set_xlabel('Regularization parameter $\\lambda$')\n",
    "ax.set_ylabel(r'$R^2$ score')\n",
    "ax.legend(loc = 'best')\n",
    "plt.grid()\n"
   ]
  },
  {
   "cell_type": "markdown",
   "metadata": {},
   "source": [
    "<span style=\"color:darkblue\">\n",
    "** Comment: ** <br>\n",
    "The best R^2 in the test set is reached with 0.79259, i.e., when the lamda value is slightly smaller than 10'0. \n",
    "</span>\n",
    "<br>\n"
   ]
  },
  {
   "cell_type": "markdown",
   "metadata": {},
   "source": [
    "<span style=\"color:darkblue\">\n",
    "** Grade: ** <br>\n",
    "</span>\n",
    "<span style=\"color:darkblue\">\n",
    "Correctness <br>\n",
    "-The student made a couple of errors in the code.<br><br>\n",
    "Interpretation (if applicable)<br>\n",
    "-The student didn't add interpretation.<br><br>\n",
    "Code/algorithm design<br>\n",
    "-The student used poor labelling for the variables<br> \n",
    "-The student didn't really comment in the code<br><br>\n",
    "Presentation<br>\n",
    "-No axes labels in the plots and no legend<br>\n",
    "<br><br>\n",
    "Grade 3.5/5\n",
    "</span>\n"
   ]
  },
  {
   "cell_type": "markdown",
   "metadata": {},
   "source": [
    "## Challenge Problem: Predicting Outcome of a Fund-raising Campaign\n",
    "You are provided a data set containing details of mail sent to 95,412 potential donors for a fund-raising campaign of a not-for-profit organization. This data set also contains the amount donated by each donor. The task is to build a model that can estimate the amount that a donor would donate using his/her attributes. The data is contained in the file `dataset_4.txt`. Each row contains 376 attributes for a donor, followed by the donation amount.\n",
    "\n",
    "**Note**: For additional information about the attributes used, please look up the file `dataset_4_description.txt`. This files also contains details of attributes that have been omitted from the data set.\n",
    "\n",
    "### Part (a): Fit regression model\n",
    "Build a suitable model to predict the donation amount. How good is your model? \n",
    "\n",
    "\n",
    "### Part (b): Evaluate the total profit of the fitted model\n",
    "Suppose you are told that the cost of mailing the donor is \\$7. Use your model to maximize profit. Implement, explain and rigorously justify your strategy. How does your strategry compare with blanket mailing everyone.\n",
    "\n",
    "### Part (c): Further Discussion\n",
    "In hindsight, thoroughly discuss the appropriatenes of using a regression model for this dataset (you must at least address the suitability with respect to profit maximization and model assumptions). Rigorously justify your reasoning. "
   ]
  },
  {
   "cell_type": "code",
   "execution_count": 106,
   "metadata": {
    "collapsed": true
   },
   "outputs": [],
   "source": [
    "## Function\n",
    "def Ridge_Regression(x_test, y_test, x_train, y_train, min_el, max_el):\n",
    "    \n",
    "    # Create lambdas spaced between min and max\n",
    "    ells = np.array(range(min_el, max_el+1))\n",
    "    \n",
    "    num_lambdas = len(ells)\n",
    "    num_datapoints, num_predictors = np.shape(x_train)\n",
    "    \n",
    "    # Initialise empty array\n",
    "    train_r_squared = np.zeros(num_lambdas)\n",
    "    test_r_squared = np.zeros(num_lambdas)\n",
    "    coeff_a =np.zeros((num_lambdas, num_predictors))\n",
    "    test_mse = np.zeros(num_lambdas)\n",
    "    \n",
    "    # Iterate through the lambdas\n",
    "    for i, ell in enumerate(ells):\n",
    "        \n",
    "        reg = Ridge_Reg(alpha=10**ell)\n",
    "        reg.fit(x_train, y_train)\n",
    "        \n",
    "        # calculate MSE\n",
    "        test_mse[i] = np.sum((y_test-reg.predict(x_test))**2)/float(len(y_test))\n",
    "\n",
    "        test_r_squared[i] = reg.score(x_test, y_test)\n",
    "        train_r_squared[i] = reg.score(x_train, y_train)\n",
    "        \n",
    "        print 'Lambda = ', 10**ell, '  Test R2 =  ', reg.score(x_test, y_test)\n",
    "        \n",
    "        # save the coefficients for plotting\n",
    "        coeff_a[i,:] = reg.coef_\n",
    "        \n",
    "    return train_r_squared, test_r_squared, coeff_a, ells, test_mse\n",
    "\n",
    "def Lasso_Regression(x_test, y_test, x_train, y_train, min_el, max_el):\n",
    "    \n",
    "    # Create a vector of lambdas\n",
    "    ells = np.linspace(min_el, max_el, 100)\n",
    "    num_lambdas = len(ells)\n",
    "    num_predictors = np.shape(x_train)[1]\n",
    "    \n",
    "    # Empty arrays to store r2 values and coefficients\n",
    "    train_r_squared = np.zeros(num_lambdas)\n",
    "    test_r_squared = np.zeros(num_lambdas)\n",
    "    coeff_a = np.zeros((num_lambdas, num_predictors))\n",
    "    test_mse = np.zeros(num_lambdas)\n",
    " \n",
    "    # Loop\n",
    "    for i, ell in enumerate(ells):\n",
    "        \n",
    "        # Ridge regression\n",
    "        reg = Lasso_Reg(alpha=10**ell)\n",
    "        reg.fit(x_train, y_train)\n",
    "        test_mse[i] = np.sum((y_test-reg.predict(x_test))**2)/float(len(y_test))\n",
    "\n",
    "        # Calculate R2\n",
    "        r2_test = reg.score(x_test, y_test)\n",
    "        r2_train = reg.score(x_train, y_train)\n",
    "        test_r_squared[i] = r2_test\n",
    "        train_r_squared[i] = r2_train\n",
    "        coeff_a[i,:] = reg.coef_\n",
    "        \n",
    "    return train_r_squared, test_r_squared, coeff_a, ells, test_mse"
   ]
  },
  {
   "cell_type": "code",
   "execution_count": 94,
   "metadata": {
    "collapsed": false
   },
   "outputs": [],
   "source": [
    "# Load the dataset\n",
    "data4 = pd.read_csv('datasets/dataset_4.txt', sep=',')"
   ]
  },
  {
   "cell_type": "code",
   "execution_count": 98,
   "metadata": {
    "collapsed": false
   },
   "outputs": [
    {
     "name": "stdout",
     "output_type": "stream",
     "text": [
      "Shape before expansion:  (8928, 376)\n"
     ]
    },
    {
     "data": {
      "text/html": [
       "<div>\n",
       "<table border=\"1\" class=\"dataframe\">\n",
       "  <thead>\n",
       "    <tr style=\"text-align: right;\">\n",
       "      <th></th>\n",
       "      <th>ABC</th>\n",
       "      <th>ABD</th>\n",
       "      <th>ACC</th>\n",
       "      <th>ACG</th>\n",
       "      <th>ACL</th>\n",
       "      <th>ACS</th>\n",
       "      <th>ACT</th>\n",
       "      <th>ADD</th>\n",
       "      <th>ADM</th>\n",
       "      <th>ADR</th>\n",
       "      <th>...</th>\n",
       "      <th>X</th>\n",
       "      <th>C</th>\n",
       "      <th>L</th>\n",
       "      <th>X</th>\n",
       "      <th>CLUSTER2</th>\n",
       "      <th>A</th>\n",
       "      <th>B</th>\n",
       "      <th>C</th>\n",
       "      <th>D</th>\n",
       "      <th>_</th>\n",
       "    </tr>\n",
       "  </thead>\n",
       "  <tbody>\n",
       "    <tr>\n",
       "      <th>0</th>\n",
       "      <td>0.0</td>\n",
       "      <td>0.0</td>\n",
       "      <td>0.0</td>\n",
       "      <td>0.0</td>\n",
       "      <td>0.0</td>\n",
       "      <td>0.0</td>\n",
       "      <td>0.0</td>\n",
       "      <td>0.0</td>\n",
       "      <td>0.0</td>\n",
       "      <td>0.0</td>\n",
       "      <td>...</td>\n",
       "      <td>1.0</td>\n",
       "      <td>0.0</td>\n",
       "      <td>0.0</td>\n",
       "      <td>1.0</td>\n",
       "      <td>3.0</td>\n",
       "      <td>1.0</td>\n",
       "      <td>0.0</td>\n",
       "      <td>0.0</td>\n",
       "      <td>0.0</td>\n",
       "      <td>0.0</td>\n",
       "    </tr>\n",
       "    <tr>\n",
       "      <th>1</th>\n",
       "      <td>0.0</td>\n",
       "      <td>0.0</td>\n",
       "      <td>0.0</td>\n",
       "      <td>0.0</td>\n",
       "      <td>0.0</td>\n",
       "      <td>0.0</td>\n",
       "      <td>0.0</td>\n",
       "      <td>0.0</td>\n",
       "      <td>0.0</td>\n",
       "      <td>0.0</td>\n",
       "      <td>...</td>\n",
       "      <td>1.0</td>\n",
       "      <td>0.0</td>\n",
       "      <td>0.0</td>\n",
       "      <td>1.0</td>\n",
       "      <td>14.0</td>\n",
       "      <td>1.0</td>\n",
       "      <td>0.0</td>\n",
       "      <td>0.0</td>\n",
       "      <td>0.0</td>\n",
       "      <td>0.0</td>\n",
       "    </tr>\n",
       "    <tr>\n",
       "      <th>2</th>\n",
       "      <td>0.0</td>\n",
       "      <td>0.0</td>\n",
       "      <td>0.0</td>\n",
       "      <td>0.0</td>\n",
       "      <td>0.0</td>\n",
       "      <td>0.0</td>\n",
       "      <td>0.0</td>\n",
       "      <td>0.0</td>\n",
       "      <td>0.0</td>\n",
       "      <td>0.0</td>\n",
       "      <td>...</td>\n",
       "      <td>1.0</td>\n",
       "      <td>0.0</td>\n",
       "      <td>0.0</td>\n",
       "      <td>1.0</td>\n",
       "      <td>11.0</td>\n",
       "      <td>0.0</td>\n",
       "      <td>0.0</td>\n",
       "      <td>1.0</td>\n",
       "      <td>0.0</td>\n",
       "      <td>0.0</td>\n",
       "    </tr>\n",
       "    <tr>\n",
       "      <th>3</th>\n",
       "      <td>0.0</td>\n",
       "      <td>0.0</td>\n",
       "      <td>0.0</td>\n",
       "      <td>0.0</td>\n",
       "      <td>0.0</td>\n",
       "      <td>0.0</td>\n",
       "      <td>0.0</td>\n",
       "      <td>0.0</td>\n",
       "      <td>0.0</td>\n",
       "      <td>0.0</td>\n",
       "      <td>...</td>\n",
       "      <td>1.0</td>\n",
       "      <td>0.0</td>\n",
       "      <td>0.0</td>\n",
       "      <td>1.0</td>\n",
       "      <td>2.0</td>\n",
       "      <td>1.0</td>\n",
       "      <td>0.0</td>\n",
       "      <td>0.0</td>\n",
       "      <td>0.0</td>\n",
       "      <td>0.0</td>\n",
       "    </tr>\n",
       "    <tr>\n",
       "      <th>4</th>\n",
       "      <td>0.0</td>\n",
       "      <td>0.0</td>\n",
       "      <td>0.0</td>\n",
       "      <td>0.0</td>\n",
       "      <td>0.0</td>\n",
       "      <td>0.0</td>\n",
       "      <td>0.0</td>\n",
       "      <td>0.0</td>\n",
       "      <td>0.0</td>\n",
       "      <td>0.0</td>\n",
       "      <td>...</td>\n",
       "      <td>1.0</td>\n",
       "      <td>0.0</td>\n",
       "      <td>0.0</td>\n",
       "      <td>1.0</td>\n",
       "      <td>22.0</td>\n",
       "      <td>1.0</td>\n",
       "      <td>0.0</td>\n",
       "      <td>0.0</td>\n",
       "      <td>0.0</td>\n",
       "      <td>0.0</td>\n",
       "    </tr>\n",
       "  </tbody>\n",
       "</table>\n",
       "<p>5 rows × 3160 columns</p>\n",
       "</div>"
      ],
      "text/plain": [
       "   ABC  ABD  ACC  ACG  ACL  ACS  ACT  ADD  ADM  ADR ...     X    C    L    X  \\\n",
       "0  0.0  0.0  0.0  0.0  0.0  0.0  0.0  0.0  0.0  0.0 ...   1.0  0.0  0.0  1.0   \n",
       "1  0.0  0.0  0.0  0.0  0.0  0.0  0.0  0.0  0.0  0.0 ...   1.0  0.0  0.0  1.0   \n",
       "2  0.0  0.0  0.0  0.0  0.0  0.0  0.0  0.0  0.0  0.0 ...   1.0  0.0  0.0  1.0   \n",
       "3  0.0  0.0  0.0  0.0  0.0  0.0  0.0  0.0  0.0  0.0 ...   1.0  0.0  0.0  1.0   \n",
       "4  0.0  0.0  0.0  0.0  0.0  0.0  0.0  0.0  0.0  0.0 ...   1.0  0.0  0.0  1.0   \n",
       "\n",
       "   CLUSTER2    A    B    C    D    _  \n",
       "0       3.0  1.0  0.0  0.0  0.0  0.0  \n",
       "1      14.0  1.0  0.0  0.0  0.0  0.0  \n",
       "2      11.0  0.0  0.0  1.0  0.0  0.0  \n",
       "3       2.0  1.0  0.0  0.0  0.0  0.0  \n",
       "4      22.0  1.0  0.0  0.0  0.0  0.0  \n",
       "\n",
       "[5 rows x 3160 columns]"
      ]
     },
     "execution_count": 98,
     "metadata": {},
     "output_type": "execute_result"
    }
   ],
   "source": [
    "# Extract the predictors and the response \n",
    "df_x4 = data4.iloc[:, 0:-1]\n",
    "df_y4 = data4.iloc[:,-1]\n",
    "\n",
    "print 'Shape before expansion: ', df_x4.shape\n",
    "num_predictors4 = np.shape(df_x4)[1]\n",
    "data4_expanded = pd.DataFrame({})\n",
    "\n",
    "# Loop\n",
    "for column in df_x4.columns:\n",
    "    # For categorical variables, is the number of unique items < 20 or data type is an object\n",
    "    if (len(df_x4[column].unique()) < 20 or (df_x4[column].dtype == np.dtype('object'))):\n",
    "        # apply one-hot encoding\n",
    "        encoded_col = pd.get_dummies(df_x4[column])\n",
    "        data4_expanded = pd.concat([data4_expanded, encoded_col], axis=1) \n",
    "    else:\n",
    "        data4_expanded = pd.concat([data4_expanded, df_x4[column]], axis=1) \n",
    "        \n",
    "data4_expanded.head()"
   ]
  },
  {
   "cell_type": "code",
   "execution_count": 99,
   "metadata": {
    "collapsed": true
   },
   "outputs": [],
   "source": [
    "# Extract the predictors and the response \n",
    "x4 = data4_expanded.iloc[:, 0:-1].values\n",
    "y4 = df_y4.values.reshape(len(df_y4.values), 1)\n",
    "\n",
    "# Split into train and test set\n",
    "n = x4.shape[0]\n",
    "n_train = int(np.round(n*0.7))\n",
    "indices = np.random.permutation(range(n))\n",
    "train_indices = indices[0:n_train]\n",
    "test_indices = indices[n_train:]\n",
    "\n",
    "# The first 25% are in the training set, the rest is in the test set (assuming the data has been ran. shuffeled) \n",
    "x4_train = x4[train_indices,:]\n",
    "y4_train = y4[train_indices]\n",
    "x4_test = x4[test_indices,:]\n",
    "y4_test = y4[test_indices]\n"
   ]
  },
  {
   "cell_type": "code",
   "execution_count": 100,
   "metadata": {
    "collapsed": false
   },
   "outputs": [
    {
     "name": "stdout",
     "output_type": "stream",
     "text": [
      "Shape of Training set (6250L, 3159L)\n",
      "Shape of Testing set (2678L, 3159L)\n",
      "Plain Regression: R^2 score on training set 0.543766085401\n",
      "Plain Regression: R^2 score on test set -2.99313600933e+14\n"
     ]
    }
   ],
   "source": [
    "# OLS regression\n",
    "reg4 = Lin_Reg()\n",
    "reg4.fit(x4_train, y4_train)\n",
    "\n",
    "train_rsquared4 = reg4.score(x4_train, y4_train)\n",
    "test_rsquared4 = reg4.score(x4_test, y4_test)\n",
    "\n",
    "# Print results\n",
    "print 'Shape of Training set', x4_train.shape\n",
    "print 'Shape of Testing set', x4_test.shape\n",
    "print 'Plain Regression: R^2 score on training set', train_rsquared4\n",
    "print 'Plain Regression: R^2 score on test set', test_rsquared4"
   ]
  },
  {
   "cell_type": "markdown",
   "metadata": {},
   "source": [
    "<span style=\"color:darkblue\">\n",
    "** Comment: ** <br>\n",
    "The OLS Regression performs quite bad on the test data. This is because the number of predictors is very large, i.e., the same order as the number of data points. Furthermore, on the test set, the number of predictors is larger than the number of samples. \n",
    "</span>\n",
    "<br>\n",
    "\n",
    "\n"
   ]
  },
  {
   "cell_type": "markdown",
   "metadata": {},
   "source": [
    "### Ridge Regression"
   ]
  },
  {
   "cell_type": "code",
   "execution_count": 101,
   "metadata": {
    "collapsed": false
   },
   "outputs": [
    {
     "name": "stdout",
     "output_type": "stream",
     "text": [
      "Ridge Regression: R^2 score on training set 0.516172699128\n",
      "Ridge Regression: R^2 score on test set -0.109274659067\n"
     ]
    }
   ],
   "source": [
    "# Ridge regression\n",
    "ridge_reg4 = Ridge_Reg(alpha=1.0)\n",
    "ridge_reg4.fit(x4_train, y4_train)\n",
    "train_rsquared4 = ridge_reg4.score(x4_train, y4_train)\n",
    "test_rsquared4 = ridge_reg4.score(x4_test, y4_test)\n",
    "\n",
    "# Print results\n",
    "print 'Ridge Regression: R^2 score on training set', train_rsquared4\n",
    "print 'Ridge Regression: R^2 score on test set', test_rsquared4"
   ]
  },
  {
   "cell_type": "markdown",
   "metadata": {},
   "source": [
    "\n",
    "<span style=\"color:darkblue\">\n",
    "** Comment: ** <br>\n",
    "Ride regression wiht a $\\lambda$ value of 1 performs still very badly as the R2 on the test set is negative. \n",
    "</span>\n",
    "<br>"
   ]
  },
  {
   "cell_type": "code",
   "execution_count": 102,
   "metadata": {
    "collapsed": false
   },
   "outputs": [
    {
     "name": "stdout",
     "output_type": "stream",
     "text": [
      "Lambda =  1e-05   Test R2 =   -0.872085836202\n",
      "Lambda =  0.0001   Test R2 =   -0.802908596416\n",
      "Lambda =  0.001   Test R2 =   -0.662179557466\n",
      "Lambda =  0.01   Test R2 =   -0.567758349764\n",
      "Lambda =  0.1   Test R2 =   -0.362100672867\n",
      "Lambda =  1   Test R2 =   -0.109274659067\n",
      "Lambda =  10   Test R2 =   0.0492078051161\n",
      "Lambda =  100   Test R2 =   0.124051206484\n",
      "Lambda =  1000   Test R2 =   0.159548324042\n",
      "Lambda =  10000   Test R2 =   0.161875952559\n",
      "Lambda =  100000   Test R2 =   0.159749199027\n",
      "Lambda =  1000000   Test R2 =   0.131203763498\n",
      "Lambda =  10000000   Test R2 =   0.0807001579181\n",
      "Lambda =  100000000   Test R2 =   0.0388706995544\n",
      "Lambda =  1000000000   Test R2 =   0.0173118645763\n",
      "Lambda =  1410065408   Test R2 =   0.0161581895034\n",
      "Lambda =  1215752192   Test R2 =   0.0166129936853\n",
      "Lambda =  -727379968   Test R2 =   -0.0888464977463\n",
      "Lambda =  1316134912   Test R2 =   0.0163621092223\n",
      "Lambda =  276447232   Test R2 =   0.0259374350161\n",
      "Lambda =  -1530494976   Test R2 =   0.00744011999538\n"
     ]
    }
   ],
   "source": [
    "# Trying with different values of lambda\n",
    "train_r_squared, test_r_squared, coeff_a, lambdas, y_test_predict = Ridge_Regression(x4_test, y4_test, x4_train, y4_train, -5,15) \n"
   ]
  },
  {
   "cell_type": "code",
   "execution_count": 103,
   "metadata": {
    "collapsed": false
   },
   "outputs": [
    {
     "data": {
      "text/plain": [
       "(1e-05, 100000000000L)"
      ]
     },
     "execution_count": 103,
     "metadata": {},
     "output_type": "execute_result"
    },
    {
     "data": {
      "image/png": "[encoded data removed]",
      "text/plain": [
       "<matplotlib.figure.Figure at 0x12e96208>"
      ]
     },
     "metadata": {},
     "output_type": "display_data"
    }
   ],
   "source": [
    "# Plotting\n",
    "fig, ax = plt.subplots(1, 1, figsize=(18, 8))\n",
    "ax.semilogx(10.0**lambdas, (train_r_squared), c='b', label='Ridge: Train set', color=\"darkblue\", alpha=0.6, linewidth=3)\n",
    "ax.semilogx(10.0**lambdas, (test_r_squared), c='r', label='Ridge: Test set', color=\"darkred\", alpha=0.6, linewidth=3)\n",
    "ax.set_xlabel('Regularization parameter $\\lambda$')\n",
    "ax.set_ylabel(r'$R^2$ score')\n",
    "ax.legend(loc = 'best')\n",
    "ax.grid()\n",
    "plt.xlim(10**(-5), 10**(11))\n"
   ]
  },
  {
   "cell_type": "markdown",
   "metadata": {},
   "source": [
    "<span style=\"color:darkblue\">\n",
    "** Comment: ** <br>\n",
    "Itterating over different values of $\\lambda$ shows that the R2 score can be improved. The best $R^2$ of 0.0731 is achieved for $\\lambda = 1000$. For values of $\\lambda$ smaller than 10, the R2 is negative and for values bigger than 1000, the R2 starts moving closer to zero.  </span>\n",
    "<br>\n"
   ]
  },
  {
   "cell_type": "markdown",
   "metadata": {},
   "source": [
    "### Lasso Regression"
   ]
  },
  {
   "cell_type": "code",
   "execution_count": 107,
   "metadata": {
    "collapsed": false
   },
   "outputs": [],
   "source": [
    "# Lasso regression\n",
    "train_r_squared, test_r_squared, coeff_a, lambdas, test_mse = Lasso_Regression(x4_test, y4_test, x4_train, y4_train, -5,15) \n"
   ]
  },
  {
   "cell_type": "code",
   "execution_count": 108,
   "metadata": {
    "collapsed": false
   },
   "outputs": [
    {
     "data": {
      "text/plain": [
       "(1e-05, 100000000000L)"
      ]
     },
     "execution_count": 108,
     "metadata": {},
     "output_type": "execute_result"
    },
    {
     "data": {
      "image/png": "[encoded data removed]",
      "text/plain": [
       "<matplotlib.figure.Figure at 0x10f86f28>"
      ]
     },
     "metadata": {},
     "output_type": "display_data"
    }
   ],
   "source": [
    "# Plotting\n",
    "fig, ax = plt.subplots(1, 1, figsize=(18, 8))\n",
    "ax.semilogx(10.0**lambdas, (train_r_squared), c='b', label='Lasso: Train set', color=\"darkblue\", alpha=0.6, linewidth=3)\n",
    "ax.semilogx(10.0**lambdas, (test_r_squared), c='r', label='Lasso: Test set', color=\"darkred\", alpha=0.6, linewidth=3)\n",
    "ax.set_xlabel('Regularization parameter $\\lambda$')\n",
    "ax.set_ylabel(r'$R^2$ score')\n",
    "ax.legend(loc = 'best')\n",
    "ax.grid()\n",
    "plt.xlim(10**(-5), 10**(11))\n"
   ]
  },
  {
   "cell_type": "markdown",
   "metadata": {},
   "source": [
    "<span style=\"color:darkblue\">\n",
    "** Comment: ** <br>\n",
    "The highest R2 value of the Lasso regression is reached at around 0.2.\n",
    "</span>\n",
    "<br>\n"
   ]
  },
  {
   "cell_type": "code",
   "execution_count": 109,
   "metadata": {
    "collapsed": true
   },
   "outputs": [],
   "source": [
    "## Evaluate profit\n",
    "ridge_reg4 = Ridge_Reg(alpha=1000)\n",
    "ridge_reg4.fit(x4_train, y4_train)\n",
    "\n",
    "y_predict = ridge_reg4.predict(x4).flatten()\n",
    "\n",
    "# Select 200 people to mail\n",
    "donors_sorted = sorted(y_predict, reverse = True)\n",
    "donors = y4.reshape(len(y4))\n"
   ]
  },
  {
   "cell_type": "code",
   "execution_count": 110,
   "metadata": {
    "collapsed": true
   },
   "outputs": [],
   "source": [
    "# Iterate\n",
    "max_num_donors = 500\n",
    "max_profit = np.zeros(max_num_donors)\n",
    "random_profit = np.zeros(max_num_donors)\n",
    "\n",
    "for n in xrange(max_num_donors):\n",
    "    max_profit[n] = sum(donors_sorted[0:n]) - n*7\n",
    "    random_profit[n] = np.sum(np.random.choice(donors, n, replace=False)) - n*7\n"
   ]
  },
  {
   "cell_type": "code",
   "execution_count": 111,
   "metadata": {
    "collapsed": false
   },
   "outputs": [
    {
     "data": {
      "image/png": "[encoded data removed]",
      "text/plain": [
       "<matplotlib.figure.Figure at 0x10f86d30>"
      ]
     },
     "metadata": {},
     "output_type": "display_data"
    }
   ],
   "source": [
    "# Plotting\n",
    "fig, ax = plt.subplots(1, 1, figsize=(18, 8))\n",
    "ax.plot(xrange(max_num_donors), max_profit, color=\"darkblue\", alpha=0.6, linewidth=3)\n",
    "ax.plot(xrange(max_num_donors), random_profit, color=\"darkred\", alpha=0.6, linewidth=3)\n",
    "ax.set_xlabel('Number of donors mailed')\n",
    "ax.set_ylabel('Profit')\n",
    "ax.grid()\n"
   ]
  },
  {
   "cell_type": "markdown",
   "metadata": {},
   "source": [
    "<span style=\"color:darkblue\">\n",
    "** Comment: ** <br>\n",
    "When supposing that the cost cost of mailing the donor is \\$7 it can be seen that mailing with the regression model as a base is much more profitable than a blanked mailing compagne. This also shows that in hindsight using a regression model is better than assuming that there is no underlying relationship. Nevertheless, the model still could be improved by quit a bit as it only is able to explain around 20% of the variation in the dataset. \n",
    "</span>\n"
   ]
  }
 ],
 "metadata": {
  "anaconda-cloud": {},
  "kernelspec": {
   "display_name": "Python [Root]",
   "language": "python",
   "name": "Python [Root]"
  },
  "language_info": {
   "codemirror_mode": {
    "name": "ipython",
    "version": 2
   },
   "file_extension": ".py",
   "mimetype": "text/x-python",
   "name": "python",
   "nbconvert_exporter": "python",
   "pygments_lexer": "ipython2",
   "version": "2.7.12"
  }
 },
 "nbformat": 4,
 "nbformat_minor": 0
}
